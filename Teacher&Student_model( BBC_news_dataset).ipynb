{
  "cells": [
    {
      "cell_type": "code",
      "execution_count": null,
      "metadata": {
        "id": "HfrvAt8lO2JO"
      },
      "outputs": [],
      "source": [
        "\n",
        "# Standard Libraries\n",
        "import pandas as pd\n",
        "import numpy as np\n",
        "import json\n",
        "\n",
        "# Data Preprocessing & NLP\n",
        "import nltk\n",
        "import re\n",
        "import string\n",
        "import gensim\n",
        "from textblob import Word\n",
        "\n",
        "import xgboost as xgb\n",
        "from xgboost import XGBClassifier\n",
        "\n",
        "from gensim.utils import simple_preprocess\n",
        "from nltk.corpus import stopwords\n",
        "from nltk.stem import WordNetLemmatizer, SnowballStemmer\n",
        "from nltk.stem.porter import *\n",
        "from sklearn.feature_extraction.text import CountVectorizer\n",
        "from sklearn.feature_extraction.text import TfidfVectorizer\n",
        "from sklearn.preprocessing import MultiLabelBinarizer\n",
        "# nltk.download('wordnet')\n",
        "# nltk.download('punkt')\n",
        "# nltk.download('stopwords')\n",
        "\n",
        "# Models\n",
        "# from sklearn.linear_model import LogisticRegression\n",
        "# from sklearn.naive_bayes import MultinomialNB\n",
        "# from sklearn.multiclass import OneVsRestClassifier\n",
        "# from sklearn.svm import SVC, LinearSVC\n",
        "# from sklearn.tree import DecisionTreeClassifier\n",
        "# from sklearn.ensemble import RandomForestClassifier, ExtraTreesClassifier, VotingClassifier, AdaBoostClassifier, BaggingRegressor, GradientBoostingClassifier,BaggingClassifier\n",
        "# from sklearn.naive_bayes import GaussianNB\n",
        "\n",
        "from sklearn.neighbors import NearestNeighbors, KNeighborsClassifier\n",
        "from sklearn import model_selection\n",
        "from sklearn.model_selection import GridSearchCV, RandomizedSearchCV\n",
        "from sklearn.metrics.pairwise import linear_kernel\n",
        "\n",
        "# Performance metrics\n",
        "# from sklearn.metrics import confusion_matrix, f1_score\n",
        "# from sklearn.model_selection import cross_val_score, KFold\n",
        "# from sklearn.model_selection import train_test_split\n",
        "# from sklearn.metrics import accuracy_score, make_scorer, roc_curve, roc_auc_score\n",
        "# from sklearn.metrics import precision_recall_fscore_support as score\n",
        "# from sklearn.metrics.pairwise import cosine_similarity\n",
        "\n",
        "# Visualization Libraries\n",
        "import matplotlib.pyplot as plt\n",
        "# import seaborn as sns\n",
        "# from PIL import Image\n",
        "# from wordcloud import WordCloud, STOPWORDS, ImageColorGenerator\n",
        "# sns.set()\n",
        "%matplotlib inline\n",
        "\n",
        "import warnings\n",
        "warnings.filterwarnings('ignore')\n",
        "\n",
        "from sklearn.preprocessing import LabelBinarizer, LabelEncoder\n",
        "from sklearn.metrics import confusion_matrix\n",
        "\n",
        "from tensorflow import keras\n",
        "import tensorflow as tf\n",
        "layers = keras.layers\n",
        "models = keras.models\n",
        "from tensorflow.keras.utils import *\n",
        "from tensorflow.keras.layers import *\n",
        "from tensorflow.keras.models import *\n",
        "from keras.layers import Flatten\n",
        "\n",
        "np.random.seed(1001)"
      ]
    },
    {
      "cell_type": "code",
      "execution_count": null,
      "metadata": {
        "colab": {
          "base_uri": "https://localhost:8080/"
        },
        "id": "4Z2XWwPPttzK",
        "outputId": "bdd1e776-ad98-4cf2-a4a5-e91c1a048a54"
      },
      "outputs": [
        {
          "name": "stdout",
          "output_type": "stream",
          "text": [
            "Mounted at /content/drive\n"
          ]
        }
      ],
      "source": [
        "from google.colab import drive\n",
        "drive.mount('/content/drive')"
      ]
    },
    {
      "cell_type": "markdown",
      "metadata": {
        "id": "e9CJFznnTNEW"
      },
      "source": [
        "# Data\n",
        "\n",
        "---\n",
        "\n",
        "\n"
      ]
    },
    {
      "cell_type": "code",
      "execution_count": null,
      "metadata": {
        "colab": {
          "base_uri": "https://localhost:8080/"
        },
        "id": "IhwpeIrSaejc",
        "outputId": "faa0fe25-4203-4fd4-a616-d43a7378b2c1"
      },
      "outputs": [
        {
          "data": {
            "text/plain": [
              "sport            346\n",
              "business         336\n",
              "politics         274\n",
              "entertainment    273\n",
              "tech             261\n",
              "Name: Category, dtype: int64"
            ]
          },
          "execution_count": 3,
          "metadata": {},
          "output_type": "execute_result"
        }
      ],
      "source": [
        "news_df = pd.read_csv(\"/content/drive/MyDrive/Data/A4/TrainData.csv\")\n",
        "news_df['Category'].value_counts()"
      ]
    },
    {
      "cell_type": "code",
      "execution_count": null,
      "metadata": {
        "colab": {
          "base_uri": "https://localhost:8080/"
        },
        "id": "S9Z4JJWfaeb1",
        "outputId": "0a162da6-d975-4221-dcc3-f4e4935d137b"
      },
      "outputs": [
        {
          "data": {
            "text/plain": [
              "array([1., 0., 0., 0., 0.])"
            ]
          },
          "execution_count": 4,
          "metadata": {},
          "output_type": "execute_result"
        }
      ],
      "source": [
        "from sklearn.preprocessing import OneHotEncoder\n",
        "enc = OneHotEncoder(handle_unknown = 'ignore')\n",
        "enc.fit(np.array(news_df[\"Category\"]).reshape(-1,1))\n",
        "y_train = enc.transform(np.array(news_df[\"Category\"]).reshape(-1,1)).toarray()\n",
        "y_train[0]"
      ]
    },
    {
      "cell_type": "code",
      "execution_count": null,
      "metadata": {
        "colab": {
          "base_uri": "https://localhost:8080/"
        },
        "id": "KrtQxFCvaeT_",
        "outputId": "97fa8d4e-1952-4ac8-b37c-caf3d00d5d99"
      },
      "outputs": [
        {
          "name": "stdout",
          "output_type": "stream",
          "text": [
            "Collecting contractions\n",
            "  Downloading contractions-0.0.55-py2.py3-none-any.whl (7.9 kB)\n",
            "Collecting textsearch>=0.0.21\n",
            "  Downloading textsearch-0.0.21-py2.py3-none-any.whl (7.5 kB)\n",
            "Collecting anyascii\n",
            "  Downloading anyascii-0.3.0-py3-none-any.whl (284 kB)\n",
            "\u001b[K     |████████████████████████████████| 284 kB 5.1 MB/s \n",
            "\u001b[?25hCollecting pyahocorasick\n",
            "  Downloading pyahocorasick-1.4.2.tar.gz (321 kB)\n",
            "\u001b[K     |████████████████████████████████| 321 kB 48.1 MB/s \n",
            "\u001b[?25hBuilding wheels for collected packages: pyahocorasick\n",
            "  Building wheel for pyahocorasick (setup.py) ... \u001b[?25l\u001b[?25hdone\n",
            "  Created wheel for pyahocorasick: filename=pyahocorasick-1.4.2-cp37-cp37m-linux_x86_64.whl size=85453 sha256=3e3595848bb22bfaa3ac8147d7e56e28e7950a7bb217c0eddb1d8f3f3d682555\n",
            "  Stored in directory: /root/.cache/pip/wheels/25/19/a6/8f363d9939162782bb8439d886469756271abc01f76fbd790f\n",
            "Successfully built pyahocorasick\n",
            "Installing collected packages: pyahocorasick, anyascii, textsearch, contractions\n",
            "Successfully installed anyascii-0.3.0 contractions-0.0.55 pyahocorasick-1.4.2 textsearch-0.0.21\n"
          ]
        }
      ],
      "source": [
        "!pip install contractions"
      ]
    },
    {
      "cell_type": "code",
      "execution_count": null,
      "metadata": {
        "id": "TPb6jl3kaeMF"
      },
      "outputs": [],
      "source": [
        "import contractions\n",
        "# Data Cleaning\n",
        "def clean_text(text):\n",
        "    clean_texts = \"\"\n",
        "    expanded_words = \"\"\n",
        "    # remove everything except alphabets\n",
        "    # text = re.sub(\"[^a-zA-Z]\", \" \", text)\n",
        "\n",
        "    words = text.split(\" \")\n",
        "\n",
        "    for word in words:\n",
        "      word = contractions.fix(word)\n",
        "      tokens = word.split(\" \")\n",
        "      for token in tokens:\n",
        "        if(len(token) > 1):\n",
        "          expanded_words = expanded_words + ' ' + token  \n",
        "    clean_texts = clean_texts + ' ' + expanded_words\n",
        "    # remove whitespaces\n",
        "    clean_texts = ' '.join(clean_texts.split())\n",
        "    clean_texts = clean_texts.lower()\n",
        "    \n",
        "    return clean_texts"
      ]
    },
    {
      "cell_type": "code",
      "execution_count": null,
      "metadata": {
        "id": "D_JF5fFzaeE0"
      },
      "outputs": [],
      "source": [
        "\n",
        "# creating clean text feature\n",
        "news_df['clean_text'] = news_df['Text'].apply(clean_text)"
      ]
    },
    {
      "cell_type": "code",
      "execution_count": null,
      "metadata": {
        "id": "bBbZR-EyawVc"
      },
      "outputs": [],
      "source": [
        "X = news_df.loc[:,'clean_text']"
      ]
    },
    {
      "cell_type": "code",
      "execution_count": null,
      "metadata": {
        "colab": {
          "base_uri": "https://localhost:8080/"
        },
        "id": "SubfdommawP8",
        "outputId": "9227fe90-1922-4252-e14a-0730ad2f9e62"
      },
      "outputs": [
        {
          "name": "stdout",
          "output_type": "stream",
          "text": [
            "max_seq_length =  3165\n",
            "avg_seq_length =  367.7281879194631\n",
            "worldcom ex-boss launches defence lawyers defending former worldcom chief bernie ebbers against battery of fraud charges have called company whistleblower as their first witness. cynthia cooper worldcom ex-head of internal accounting alerted directors to irregular accounting practices at the us telecoms giant in 2002. her warnings led to the collapse of the firm following the discovery of an $11bn (£5.7bn) accounting fraud. mr ebbers has pleaded not guilty to charges of fraud and conspiracy. prosecution lawyers have argued that mr ebbers orchestrated series of accounting tricks at worldcom ordering employees to hide expenses and inflate revenues to meet wall street earnings estimates. but ms cooper who now runs her own consulting business told jury in new york on wednesday that external auditors arthur andersen had approved worldcom accounting in early 2001 and 2002. she said andersen had given green light to the procedures and practices used by worldcom. mr ebber lawyers have said he was unaware of the fraud arguing that auditors did not alert him to any problems. ms cooper also said that during shareholder meetings mr ebbers often passed over technical questions to the company finance chief giving only brief answers himself. the prosecution star witness former worldcom financial chief scott sullivan has said that mr ebbers ordered accounting adjustments at the firm telling him to hit our books however ms cooper said mr sullivan had not mentioned anything uncomfortable about worldcom accounting during 2001 audit committee meeting. mr ebbers could face jail sentence of 85 years if convicted of all the charges he is facing. worldcom emerged from bankruptcy protection in 2004 and is now known as mci. last week mci agreed to buyout by verizon communications in deal valued at $6.75bn.\n"
          ]
        }
      ],
      "source": [
        "max_seq_length = max([len(text.split(\" \")) for text in X])\n",
        "avg_seq_length = np.mean([len(text.split(\" \")) for text in X])\n",
        "print(\"max_seq_length = \" , max_seq_length)\n",
        "print(\"avg_seq_length = \" , avg_seq_length)\n",
        "print(X[0])"
      ]
    },
    {
      "cell_type": "code",
      "execution_count": null,
      "metadata": {
        "colab": {
          "base_uri": "https://localhost:8080/"
        },
        "id": "6VLKub1TawKl",
        "outputId": "06854adb-ce45-49f1-f1e7-afda8e5616c7"
      },
      "outputs": [
        {
          "name": "stdout",
          "output_type": "stream",
          "text": [
            "x_train shape: (1490, 1000)\n",
            "y_train shape: (1490, 5)\n"
          ]
        }
      ],
      "source": [
        "from tensorflow.keras.preprocessing.text import Tokenizer\n",
        "from tensorflow.keras.preprocessing.sequence import pad_sequences\n",
        "\n",
        "max_words =  1000 #3000\n",
        "\n",
        "tokenizer = Tokenizer(oov_token = \"OOV\")\n",
        "tokenizer.fit_on_texts(X)\n",
        "\n",
        "sequence_train = tokenizer.texts_to_sequences(X)\n",
        "sequence_train = pad_sequences(sequence_train,padding='post', maxlen=max_words)\n",
        "x_train = np.asarray(sequence_train)\n",
        "\n",
        "# Inspect the dimenstions of our training and test data (this is helpful to debug)\n",
        "print('x_train shape:', x_train.shape)\n",
        "print('y_train shape:', y_train.shape)"
      ]
    },
    {
      "cell_type": "code",
      "execution_count": null,
      "metadata": {
        "colab": {
          "base_uri": "https://localhost:8080/",
          "height": 237
        },
        "id": "-nPL7IMRawFG",
        "outputId": "ed9ef7be-456e-4799-a99f-24b471de31ee"
      },
      "outputs": [
        {
          "name": "stdout",
          "output_type": "stream",
          "text": [
            "x_test shape: (735, 1000)\n",
            "y_test shape: (735, 5)\n"
          ]
        },
        {
          "data": {
            "text/html": [
              "<div>\n",
              "<style scoped>\n",
              "    .dataframe tbody tr th:only-of-type {\n",
              "        vertical-align: middle;\n",
              "    }\n",
              "\n",
              "    .dataframe tbody tr th {\n",
              "        vertical-align: top;\n",
              "    }\n",
              "\n",
              "    .dataframe thead th {\n",
              "        text-align: right;\n",
              "    }\n",
              "</style>\n",
              "<table border=\"1\" class=\"dataframe\">\n",
              "  <thead>\n",
              "    <tr style=\"text-align: right;\">\n",
              "      <th></th>\n",
              "      <th>ArticleId</th>\n",
              "      <th>Text</th>\n",
              "      <th>clean_text</th>\n",
              "    </tr>\n",
              "  </thead>\n",
              "  <tbody>\n",
              "    <tr>\n",
              "      <th>0</th>\n",
              "      <td>1018</td>\n",
              "      <td>qpr keeper day heads for preston queens park r...</td>\n",
              "      <td>qpr keeper day heads for preston queens park r...</td>\n",
              "    </tr>\n",
              "    <tr>\n",
              "      <th>1</th>\n",
              "      <td>1319</td>\n",
              "      <td>software watching while you work software that...</td>\n",
              "      <td>software watching while you work software that...</td>\n",
              "    </tr>\n",
              "    <tr>\n",
              "      <th>2</th>\n",
              "      <td>1138</td>\n",
              "      <td>d arcy injury adds to ireland woe gordon d arc...</td>\n",
              "      <td>arcy injury adds to ireland woe gordon arcy ha...</td>\n",
              "    </tr>\n",
              "    <tr>\n",
              "      <th>3</th>\n",
              "      <td>459</td>\n",
              "      <td>india s reliance family feud heats up the ongo...</td>\n",
              "      <td>india reliance family feud heats up the ongoin...</td>\n",
              "    </tr>\n",
              "    <tr>\n",
              "      <th>4</th>\n",
              "      <td>1020</td>\n",
              "      <td>boro suffer morrison injury blow middlesbrough...</td>\n",
              "      <td>boro suffer morrison injury blow middlesbrough...</td>\n",
              "    </tr>\n",
              "  </tbody>\n",
              "</table>\n",
              "</div>"
            ],
            "text/plain": [
              "   ArticleId  ...                                         clean_text\n",
              "0       1018  ...  qpr keeper day heads for preston queens park r...\n",
              "1       1319  ...  software watching while you work software that...\n",
              "2       1138  ...  arcy injury adds to ireland woe gordon arcy ha...\n",
              "3        459  ...  india reliance family feud heats up the ongoin...\n",
              "4       1020  ...  boro suffer morrison injury blow middlesbrough...\n",
              "\n",
              "[5 rows x 3 columns]"
            ]
          },
          "execution_count": 11,
          "metadata": {},
          "output_type": "execute_result"
        }
      ],
      "source": [
        "news_test_df = pd.read_csv(\"/content/drive/MyDrive/Data/A4/TestData_Inputs.csv\")\n",
        "news_test_df2 = pd.read_excel(\"/content/drive/MyDrive/Data/A4/Assignment4_TestLabels.xlsx\")\n",
        "# creating clean text feature\n",
        "\n",
        "news_test_df['clean_text'] = news_test_df['Text'].apply(clean_text)\n",
        "# news_test_df['clean_text'] = news_test_df['clean_text'].apply(lambda x: remove_stopwords(x))\n",
        "X_test = news_test_df.loc[:,'clean_text']\n",
        "\n",
        "y_test = enc.transform(np.array(news_test_df2['Label - (business, tech, politics, sport, entertainment)']).reshape(-1,1)).toarray()\n",
        "\n",
        "sequence_test = tokenizer.texts_to_sequences(X_test)\n",
        "sequence_test = pad_sequences(sequence_test,padding='post', maxlen=max_words)\n",
        "X_test = np.asarray(sequence_test)\n",
        "\n",
        "# Inspect the dimenstions of our training and test data (this is helpful to debug)\n",
        "print('x_test shape:', X_test.shape)\n",
        "print('y_test shape:', y_test.shape)\n",
        "news_test_df.head()"
      ]
    },
    {
      "cell_type": "code",
      "execution_count": null,
      "metadata": {
        "colab": {
          "base_uri": "https://localhost:8080/"
        },
        "id": "mWyRTOTdav_W",
        "outputId": "61fde4c7-04d3-4429-cae6-2ec655cd2344"
      },
      "outputs": [
        {
          "data": {
            "text/plain": [
              "{'OOV': 1,\n",
              " 'and': 5,\n",
              " 'for': 7,\n",
              " 'in': 6,\n",
              " 'is': 8,\n",
              " 'it': 10,\n",
              " 'of': 4,\n",
              " 'that': 9,\n",
              " 'the': 2,\n",
              " 'to': 3}"
            ]
          },
          "execution_count": 12,
          "metadata": {},
          "output_type": "execute_result"
        }
      ],
      "source": [
        "dict(list((tokenizer.word_index).items())[0:10])\n"
      ]
    },
    {
      "cell_type": "code",
      "execution_count": null,
      "metadata": {
        "id": "T__VMpwCj47g"
      },
      "outputs": [],
      "source": [
        "# embedding_matrix_w2v = np.load(\"/content/drive/MyDrive/Data/A4/A4_matrix_w2v2.npy\")\n",
        "# embedding_matrix_ft = np.load(\"/content/drive/MyDrive/Data/A4/A4_matrix_ft2.npy\")\n",
        "# embedding_matrix_glove = np.load(\"/content/drive/MyDrive/Data/A4/A4_matrix_glove2.npy\")"
      ]
    },
    {
      "cell_type": "code",
      "execution_count": null,
      "metadata": {
        "id": "tFeQ5G-VkJlJ"
      },
      "outputs": [],
      "source": []
    },
    {
      "cell_type": "markdown",
      "metadata": {
        "id": "udEXAB52fx6p"
      },
      "source": [
        "# Positional Encoding\n",
        "A vector added to the embedding to encode positional information\n",
        "\n",
        "https://www.tensorflow.org/tutorials/text/transformer#positional_encoding"
      ]
    },
    {
      "cell_type": "code",
      "execution_count": null,
      "metadata": {
        "id": "d_HhzsSNRFs8"
      },
      "outputs": [],
      "source": [
        "def get_angles(pos, i, d_model):\n",
        "  angle_rates = 1 / np.power(10000, (2 * (i//2)) / np.float32(d_model))\n",
        "  return pos * angle_rates"
      ]
    },
    {
      "cell_type": "code",
      "execution_count": null,
      "metadata": {
        "id": "yI-t0hWpRxGj"
      },
      "outputs": [],
      "source": [
        "def positional_encoding(position, d_model):\n",
        "  angle_rads = get_angles(np.arange(position)[:, np.newaxis],\n",
        "                          np.arange(d_model)[np.newaxis, :],\n",
        "                          d_model)\n",
        "  \n",
        "  # apply sin to even indices in the array; 2i\n",
        "  angle_rads[:, 0::2] = np.sin(angle_rads[:, 0::2])\n",
        "  \n",
        "  # apply cos to odd indices in the array; 2i+1\n",
        "  angle_rads[:, 1::2] = np.cos(angle_rads[:, 1::2])\n",
        "    \n",
        "  pos_encoding = angle_rads[np.newaxis, ...]\n",
        "    \n",
        "  return tf.cast(pos_encoding, dtype=tf.float32)"
      ]
    },
    {
      "cell_type": "markdown",
      "metadata": {
        "id": "dXKQrhS15MQQ"
      },
      "source": [
        "## Multi Headed Attention"
      ]
    },
    {
      "cell_type": "markdown",
      "metadata": {
        "id": "8QXu7IDrmGT7"
      },
      "source": [
        "Test of multi-headed Attention    \n",
        "Shape = (batch_size , num_heads, seq_length, depth)"
      ]
    },
    {
      "cell_type": "markdown",
      "metadata": {
        "id": "2gk0dIJP6z35"
      },
      "source": [
        "For each of [query, value, key]   \n",
        "we reshape from  (batch_size , seq_length, depth) ->  (batch_size , seq_length, num_heads, multi_headed_depth)   \n",
        "then permute  ->  (batch_size , num_heads, seq_length, multi_headed_depth)  \n",
        "where multi-headed_depth = depth / num_heads\n",
        "\n",
        "The dot-product attention is scaled by a factor of square root of the depth. This is done because for large values of depth, the dot product grows large in magnitude pushing the softmax function where it has small gradients resulting in a very hard softmax."
      ]
    },
    {
      "cell_type": "code",
      "execution_count": null,
      "metadata": {
        "id": "KNZRelVEt3zr"
      },
      "outputs": [],
      "source": [
        "class MultiHeadAttention(tf.keras.layers.Layer):\n",
        "  def __init__(self, d_model = 512, num_heads = 8, causal=False, dropout=0.0):\n",
        "    super(MultiHeadAttention, self).__init__()\n",
        "\n",
        "    assert d_model % num_heads == 0\n",
        "    depth = d_model // num_heads\n",
        "\n",
        "    self.w_query = tf.keras.layers.Dense(d_model)\n",
        "    self.split_reshape_query = tf.keras.layers.Reshape((-1,num_heads,depth))  \n",
        "    self.split_permute_query = tf.keras.layers.Permute((2,1,3))      \n",
        "\n",
        "    self.w_value = tf.keras.layers.Dense(d_model)\n",
        "    self.split_reshape_value = tf.keras.layers.Reshape((-1,num_heads,depth))\n",
        "    self.split_permute_value = tf.keras.layers.Permute((2,1,3))\n",
        "\n",
        "    self.w_key = tf.keras.layers.Dense(d_model)\n",
        "    self.split_reshape_key = tf.keras.layers.Reshape((-1,num_heads,depth))\n",
        "    self.split_permute_key = tf.keras.layers.Permute((2,1,3))\n",
        "\n",
        "    self.attention = tf.keras.layers.Attention(causal=causal, dropout=dropout)\n",
        "    self.join_permute_attention = tf.keras.layers.Permute((2,1,3))\n",
        "    self.join_reshape_attention = tf.keras.layers.Reshape((-1,d_model))\n",
        "\n",
        "    self.dense = tf.keras.layers.Dense(d_model)\n",
        "\n",
        "  def call(self, inputs, mask=None, training=None):\n",
        "    q = inputs[0]\n",
        "    v = inputs[1]\n",
        "    k = inputs[2] if len(inputs) > 2 else v\n",
        "\n",
        "    query = self.w_query(q)\n",
        "    query = self.split_reshape_query(query)    \n",
        "    query = self.split_permute_query(query)                 \n",
        "\n",
        "    value = self.w_value(v)\n",
        "    value = self.split_reshape_value(value)\n",
        "    value = self.split_permute_value(value)\n",
        "\n",
        "    key = self.w_key(k)\n",
        "    key = self.split_reshape_key(key)\n",
        "    key = self.split_permute_key(key)\n",
        "\n",
        "    if mask is not None:\n",
        "      if mask[0] is not None:\n",
        "        mask[0] = tf.keras.layers.Reshape((-1,1))(mask[0])\n",
        "        mask[0] = tf.keras.layers.Permute((2,1))(mask[0])\n",
        "      if mask[1] is not None:\n",
        "        mask[1] = tf.keras.layers.Reshape((-1,1))(mask[1])\n",
        "        mask[1] = tf.keras.layers.Permute((2,1))(mask[1])\n",
        "\n",
        "    attention = self.attention([query, value, key], mask=mask)\n",
        "    attention = self.join_permute_attention(attention)\n",
        "    attention = self.join_reshape_attention(attention)\n",
        "\n",
        "    x = self.dense(attention)\n",
        "\n",
        "    return x"
      ]
    },
    {
      "cell_type": "markdown",
      "metadata": {
        "id": "NeGiHEQU8hlU"
      },
      "source": [
        "## Encoder Layers"
      ]
    },
    {
      "cell_type": "code",
      "execution_count": null,
      "metadata": {
        "id": "A7KMjvg6oeZF"
      },
      "outputs": [],
      "source": [
        "class EncoderLayer(tf.keras.layers.Layer):\n",
        "  def __init__(self,  d_model = 512, num_heads = 8, dff = 2048, dropout = 0.0):\n",
        "    super(EncoderLayer, self).__init__()\n",
        "\n",
        "    self.multi_head_attention =  MultiHeadAttention(d_model, num_heads)\n",
        "    self.dropout_attention = tf.keras.layers.Dropout(dropout)\n",
        "    self.add_attention = tf.keras.layers.Add()\n",
        "    self.layer_norm_attention = tf.keras.layers.LayerNormalization(epsilon=1e-6)\n",
        "\n",
        "    self.dense1 = tf.keras.layers.Dense(dff, activation='relu')\n",
        "    self.dense2 = tf.keras.layers.Dense(d_model)\n",
        "    self.dropout_dense = tf.keras.layers.Dropout(dropout)\n",
        "    self.add_dense = tf.keras.layers.Add()\n",
        "    self.layer_norm_dense = tf.keras.layers.LayerNormalization(epsilon=1e-6)\n",
        "\n",
        "  def call(self, inputs, mask=None, training=None):\n",
        "    # print(mask)\n",
        "    attention = self.multi_head_attention([inputs,inputs,inputs], mask = [mask,mask])\n",
        "    attention = self.dropout_attention(attention, training = training)\n",
        "    x = self.add_attention([inputs , attention])\n",
        "    x = self.layer_norm_attention(x)\n",
        "    # x = inputs\n",
        "\n",
        "    ## Feed Forward\n",
        "    dense = self.dense1(x)\n",
        "    dense = self.dense2(dense)\n",
        "    dense = self.dropout_dense(dense, training = training)\n",
        "    x = self.add_dense([x , dense])\n",
        "    x = self.layer_norm_dense(x)\n",
        "\n",
        "    return x\n"
      ]
    },
    {
      "cell_type": "markdown",
      "metadata": {
        "id": "A5hZJABBrvod"
      },
      "source": [
        "the causal = True argument for multi_head_attention1 automatically masks  future tokens in the sequence"
      ]
    },
    {
      "cell_type": "markdown",
      "metadata": {
        "id": "fRONqwb78use"
      },
      "source": [
        "## Encoder Blocks\n",
        "\n"
      ]
    },
    {
      "cell_type": "code",
      "execution_count": null,
      "metadata": {
        "id": "4zh-sfOMzLRQ"
      },
      "outputs": [],
      "source": [
        "class Encoder(tf.keras.layers.Layer):\n",
        "  def __init__(self, input_vocab_size, num_layers = 4, d_model = 512, num_heads = 8, dff = 2048, maximum_position_encoding = 10000, dropout = 0.0):\n",
        "    super(Encoder, self).__init__()\n",
        "\n",
        "    self.d_model = d_model\n",
        "\n",
        "    self.embedding = tf.keras.layers.Embedding(input_vocab_size, d_model, mask_zero=True)\n",
        "    self.pos = positional_encoding(maximum_position_encoding, d_model)\n",
        "\n",
        "    self.encoder_layers = [ EncoderLayer(d_model = d_model, num_heads = num_heads, dff = dff, dropout = dropout) for _ in range(num_layers)]\n",
        "\n",
        "    self.dropout = tf.keras.layers.Dropout(dropout)\n",
        "\n",
        "  def call(self, inputs, mask=None, training=None):\n",
        "    x = self.embedding(inputs)\n",
        "    # positional encoding\n",
        "    x *= tf.math.sqrt(tf.cast(self.d_model, tf.float32))  # scaling by the sqrt of d_model, not sure why or if needed??\n",
        "    x += self.pos[: , :tf.shape(x)[1], :]\n",
        "\n",
        "    x = self.dropout(x, training=training)\n",
        "\n",
        "    #Encoder layer\n",
        "    embedding_mask = self.embedding.compute_mask(inputs)\n",
        "    for encoder_layer in self.encoder_layers:\n",
        "      x = encoder_layer(x, mask = embedding_mask)\n",
        "\n",
        "    return x\n",
        "\n",
        "  def compute_mask(self, inputs, mask=None):\n",
        "    return self.embedding.compute_mask(inputs)"
      ]
    },
    {
      "cell_type": "markdown",
      "metadata": {
        "id": "oOsWp_L19qm8"
      },
      "source": [
        "# Transformer model"
      ]
    },
    {
      "cell_type": "code",
      "execution_count": null,
      "metadata": {
        "colab": {
          "base_uri": "https://localhost:8080/"
        },
        "id": "6wOZpgGc8hSH",
        "outputId": "1315b0de-5ab5-4cd3-94de-c922f8231533"
      },
      "outputs": [
        {
          "name": "stdout",
          "output_type": "stream",
          "text": [
            "Model: \"model_1\"\n",
            "_________________________________________________________________\n",
            "Layer (type)                 Output Shape              Param #   \n",
            "=================================================================\n",
            "input_3 (InputLayer)         [(None, 1000)]            0         \n",
            "_________________________________________________________________\n",
            "encoder_2 (Encoder)          (None, 1000, 64)          1697984   \n",
            "_________________________________________________________________\n",
            "bidirectional_1 (Bidirection (None, 256)               148992    \n",
            "_________________________________________________________________\n",
            "dense_29 (Dense)             (None, 5)                 1285      \n",
            "=================================================================\n",
            "Total params: 1,848,261\n",
            "Trainable params: 1,848,261\n",
            "Non-trainable params: 0\n",
            "_________________________________________________________________\n"
          ]
        }
      ],
      "source": [
        "num_layers = 2\n",
        "d_model = 64\n",
        "dff = 256\n",
        "num_heads = 8\n",
        "dropout_rate = 0.4\n",
        "MAX_LENGTH = max_words\n",
        "\n",
        "input_vocab_size = len(tokenizer.index_word) + 1\n",
        "\n",
        "\n",
        "input = tf.keras.layers.Input(shape=(MAX_LENGTH,))\n",
        "encoder = Encoder(input_vocab_size, num_layers = num_layers, d_model = d_model, num_heads = num_heads,\n",
        "                  dff = dff, dropout = dropout_rate)\n",
        "\n",
        "x = encoder(input)\n",
        "x = Bidirectional(GRU(128, dropout=0.2))(x)\n",
        "output = Dense(5, activation='sigmoid')(x)\n",
        "# flatten = Flatten()(x)\n",
        "# dense1 = Dense(256, activation=\"relu\")(flatten)\n",
        "# dropout = Dropout(0.2)(dense1)\n",
        "# output = Dense(5, activation=\"sigmoid\")(dropout)\n",
        "  \n",
        "model = Model(input, output)\n",
        "model.compile(loss='categorical_crossentropy', optimizer='adam', metrics=['accuracy'])\n",
        "\n",
        "model.summary()"
      ]
    },
    {
      "cell_type": "markdown",
      "metadata": {
        "id": "d9BrnE6_m4Id"
      },
      "source": [
        "## Training"
      ]
    },
    {
      "cell_type": "code",
      "execution_count": null,
      "metadata": {
        "colab": {
          "base_uri": "https://localhost:8080/"
        },
        "id": "0adrYXdKtZOG",
        "outputId": "72f999c1-6269-4c73-ff69-b929025ec9e2"
      },
      "outputs": [
        {
          "name": "stdout",
          "output_type": "stream",
          "text": [
            "Epoch 1/15\n",
            "75/75 - 57s - loss: 1.5850 - accuracy: 0.3029 - val_loss: 1.4928 - val_accuracy: 0.3758\n",
            "Epoch 2/15\n",
            "75/75 - 37s - loss: 1.4095 - accuracy: 0.4027 - val_loss: 1.4187 - val_accuracy: 0.4228\n",
            "Epoch 3/15\n",
            "75/75 - 38s - loss: 0.9551 - accuracy: 0.6376 - val_loss: 0.5451 - val_accuracy: 0.8087\n",
            "Epoch 4/15\n",
            "75/75 - 38s - loss: 0.3324 - accuracy: 0.8859 - val_loss: 0.3119 - val_accuracy: 0.9128\n",
            "Epoch 5/15\n",
            "75/75 - 37s - loss: 0.1210 - accuracy: 0.9648 - val_loss: 0.2323 - val_accuracy: 0.9497\n",
            "Epoch 6/15\n",
            "75/75 - 37s - loss: 0.0779 - accuracy: 0.9765 - val_loss: 0.4026 - val_accuracy: 0.9329\n",
            "Epoch 7/15\n",
            "75/75 - 38s - loss: 0.0297 - accuracy: 0.9891 - val_loss: 0.2810 - val_accuracy: 0.9530\n",
            "Epoch 8/15\n",
            "75/75 - 38s - loss: 0.0244 - accuracy: 0.9899 - val_loss: 0.3461 - val_accuracy: 0.9430\n",
            "Epoch 9/15\n",
            "75/75 - 38s - loss: 0.0157 - accuracy: 0.9958 - val_loss: 0.3154 - val_accuracy: 0.9497\n",
            "Epoch 10/15\n",
            "75/75 - 37s - loss: 0.0176 - accuracy: 0.9941 - val_loss: 0.2980 - val_accuracy: 0.9631\n",
            "Epoch 11/15\n",
            "75/75 - 38s - loss: 0.0062 - accuracy: 0.9983 - val_loss: 0.2568 - val_accuracy: 0.9597\n"
          ]
        }
      ],
      "source": [
        "callback = tf.keras.callbacks.EarlyStopping(monitor='val_loss', mode = 'min' ,patience=6)\n",
        "history = model.fit(x_train , y_train,\n",
        "                    batch_size=16,\n",
        "                    epochs=15,\n",
        "                    verbose=2,\n",
        "                    callbacks=[callback],\n",
        "                    validation_split=0.2)"
      ]
    },
    {
      "cell_type": "code",
      "execution_count": null,
      "metadata": {
        "colab": {
          "base_uri": "https://localhost:8080/"
        },
        "id": "B-EjRQ1-qIGA",
        "outputId": "4cdb83ed-9b6b-4150-c8e2-cf23db42d164"
      },
      "outputs": [
        {
          "name": "stderr",
          "output_type": "stream",
          "text": [
            "WARNING:absl:Found untraced functions such as embedding_2_layer_call_and_return_conditional_losses, embedding_2_layer_call_fn, dropout_14_layer_call_and_return_conditional_losses, dropout_14_layer_call_fn, embedding_2_layer_call_fn while saving (showing 5 of 210). These functions will not be directly callable after loading.\n"
          ]
        },
        {
          "name": "stdout",
          "output_type": "stream",
          "text": [
            "INFO:tensorflow:Assets written to: /content/drive/MyDrive/Data/Teacher_model/assets\n"
          ]
        },
        {
          "name": "stderr",
          "output_type": "stream",
          "text": [
            "INFO:tensorflow:Assets written to: /content/drive/MyDrive/Data/Teacher_model/assets\n"
          ]
        }
      ],
      "source": [
        "tf.keras.models.save_model(model, \"/content/drive/MyDrive/Data/Teacher_model\")"
      ]
    },
    {
      "cell_type": "code",
      "execution_count": null,
      "metadata": {
        "id": "ecSPVae_q4hF"
      },
      "outputs": [],
      "source": [
        "model = models.load_model(\"/content/drive/MyDrive/Data/Teacher_model\")"
      ]
    },
    {
      "cell_type": "code",
      "execution_count": null,
      "metadata": {
        "colab": {
          "base_uri": "https://localhost:8080/"
        },
        "id": "VymTZd_S6NEr",
        "outputId": "62ec14fa-58d7-419c-e380-2b6267ae5294"
      },
      "outputs": [
        {
          "name": "stdout",
          "output_type": "stream",
          "text": [
            "23/23 [==============================] - 0s 21ms/step - loss: 0.1708 - accuracy: 0.9687\n"
          ]
        }
      ],
      "source": [
        "score, acc = model.evaluate(X_test, y_test)"
      ]
    },
    {
      "cell_type": "code",
      "execution_count": null,
      "metadata": {
        "colab": {
          "base_uri": "https://localhost:8080/"
        },
        "id": "L6F4mWjq8JHk",
        "outputId": "dbdcb601-90a8-414e-cb08-625dca410200"
      },
      "outputs": [
        {
          "name": "stdout",
          "output_type": "stream",
          "text": [
            "23/23 [==============================] - 83s 4s/step\n"
          ]
        },
        {
          "data": {
            "text/plain": [
              "array([[0.18583602, 0.79918766, 0.03613126, 0.9517698 , 0.2932196 ],\n",
              "       [0.02059722, 0.12356031, 0.26470768, 0.0662531 , 0.9995574 ],\n",
              "       [0.37572888, 0.6301184 , 0.01341802, 0.9522482 , 0.36330637],\n",
              "       ...,\n",
              "       [0.50982744, 0.47725064, 0.01549059, 0.1341717 , 0.90328515],\n",
              "       [0.98368585, 0.5460714 , 0.05245233, 0.03031901, 0.1893548 ],\n",
              "       [0.01286665, 0.6675741 , 0.9994266 , 0.00939959, 0.65503454]],\n",
              "      dtype=float32)"
            ]
          },
          "execution_count": 16,
          "metadata": {},
          "output_type": "execute_result"
        }
      ],
      "source": [
        "y_pred = model.predict(X_test, verbose=1)\n",
        "y_pred"
      ]
    },
    {
      "cell_type": "code",
      "execution_count": null,
      "metadata": {
        "colab": {
          "base_uri": "https://localhost:8080/"
        },
        "id": "3PINLVJaA7BZ",
        "outputId": "9f4c2890-143f-4e2f-b5f8-3f706452dcfc"
      },
      "outputs": [
        {
          "data": {
            "text/plain": [
              "(735, 5)"
            ]
          },
          "execution_count": 17,
          "metadata": {},
          "output_type": "execute_result"
        }
      ],
      "source": [
        "y_pred.shape"
      ]
    },
    {
      "cell_type": "code",
      "execution_count": null,
      "metadata": {
        "colab": {
          "base_uri": "https://localhost:8080/"
        },
        "id": "ZPI_a7JQtXhr",
        "outputId": "8a53fdc1-64d3-4a20-9322-137329155990"
      },
      "outputs": [
        {
          "name": "stdout",
          "output_type": "stream",
          "text": [
            "Model: \"model_2\"\n",
            "_________________________________________________________________\n",
            "Layer (type)                 Output Shape              Param #   \n",
            "=================================================================\n",
            "input_4 (InputLayer)         [(None, 1000)]            0         \n",
            "_________________________________________________________________\n",
            "encoder_3 (Encoder)          (None, 1000, 64)          1631488   \n",
            "_________________________________________________________________\n",
            "bidirectional_2 (Bidirection (None, 128)               49920     \n",
            "_________________________________________________________________\n",
            "dense_36 (Dense)             (None, 5)                 645       \n",
            "=================================================================\n",
            "Total params: 1,682,053\n",
            "Trainable params: 1,682,053\n",
            "Non-trainable params: 0\n",
            "_________________________________________________________________\n",
            "Epoch 1/15\n",
            "75/75 - 33s - loss: 1.5982 - accuracy: 0.2718 - val_loss: 1.5792 - val_accuracy: 0.3356\n",
            "Epoch 2/15\n",
            "75/75 - 19s - loss: 1.4372 - accuracy: 0.3851 - val_loss: 1.3714 - val_accuracy: 0.4362\n",
            "Epoch 3/15\n",
            "75/75 - 20s - loss: 1.1363 - accuracy: 0.5529 - val_loss: 1.0345 - val_accuracy: 0.6208\n",
            "Epoch 4/15\n",
            "75/75 - 19s - loss: 0.6161 - accuracy: 0.7869 - val_loss: 0.5045 - val_accuracy: 0.8154\n",
            "Epoch 5/15\n",
            "75/75 - 19s - loss: 0.2852 - accuracy: 0.9052 - val_loss: 0.3154 - val_accuracy: 0.8960\n",
            "Epoch 6/15\n",
            "75/75 - 19s - loss: 0.1428 - accuracy: 0.9513 - val_loss: 0.2851 - val_accuracy: 0.9228\n",
            "Epoch 7/15\n",
            "75/75 - 19s - loss: 0.0628 - accuracy: 0.9807 - val_loss: 0.2419 - val_accuracy: 0.9295\n",
            "Epoch 8/15\n",
            "75/75 - 19s - loss: 0.0449 - accuracy: 0.9916 - val_loss: 0.3276 - val_accuracy: 0.9295\n",
            "Epoch 9/15\n",
            "75/75 - 19s - loss: 0.0343 - accuracy: 0.9924 - val_loss: 0.2534 - val_accuracy: 0.9228\n",
            "Epoch 10/15\n",
            "75/75 - 19s - loss: 0.0187 - accuracy: 0.9966 - val_loss: 0.2043 - val_accuracy: 0.9329\n",
            "Epoch 11/15\n",
            "75/75 - 19s - loss: 0.0217 - accuracy: 0.9933 - val_loss: 0.1984 - val_accuracy: 0.9396\n",
            "Epoch 12/15\n",
            "75/75 - 19s - loss: 0.0097 - accuracy: 0.9983 - val_loss: 0.2989 - val_accuracy: 0.9329\n",
            "Epoch 13/15\n",
            "75/75 - 19s - loss: 0.0051 - accuracy: 0.9992 - val_loss: 0.2628 - val_accuracy: 0.9396\n",
            "Epoch 14/15\n",
            "75/75 - 19s - loss: 0.0223 - accuracy: 0.9908 - val_loss: 0.2345 - val_accuracy: 0.9497\n",
            "Epoch 15/15\n",
            "75/75 - 19s - loss: 0.0177 - accuracy: 0.9958 - val_loss: 0.2406 - val_accuracy: 0.9497\n"
          ]
        }
      ],
      "source": [
        "num_layers = 1\n",
        "d_model = 64\n",
        "dff = 128\n",
        "num_heads = 4\n",
        "dropout_rate = 0.4\n",
        "MAX_LENGTH = max_words\n",
        "\n",
        "input_vocab_size = len(tokenizer.index_word) + 1\n",
        "\n",
        "\n",
        "input = tf.keras.layers.Input(shape=(MAX_LENGTH,))\n",
        "encoder = Encoder(input_vocab_size, num_layers = num_layers, d_model = d_model, num_heads = num_heads,\n",
        "                  dff = dff, dropout = dropout_rate)\n",
        "\n",
        "x = encoder(input)\n",
        "x = Bidirectional(GRU(64, dropout=0.2))(x)\n",
        "output = Dense(5, activation='sigmoid')(x)\n",
        "# flatten = Flatten()(x)\n",
        "# dense1 = Dense(256, activation=\"relu\")(flatten)\n",
        "# dropout = Dropout(0.2)(dense1)\n",
        "# output = Dense(5, activation=\"sigmoid\")(dropout)\n",
        "  \n",
        "model = Model(input, output)\n",
        "model.compile(loss='categorical_crossentropy', optimizer='adam', metrics=['accuracy'])\n",
        "\n",
        "model.summary()\n",
        "\n",
        "callback = tf.keras.callbacks.EarlyStopping(monitor='val_loss', mode = 'min' ,patience=6)\n",
        "history = model.fit(x_train , y_train,\n",
        "                    batch_size=16,\n",
        "                    epochs=15,\n",
        "                    verbose=2,\n",
        "                    callbacks=[callback],\n",
        "                    validation_split=0.2)"
      ]
    },
    {
      "cell_type": "code",
      "execution_count": null,
      "metadata": {
        "colab": {
          "base_uri": "https://localhost:8080/"
        },
        "id": "LFtFC54-xTEQ",
        "outputId": "b007a80a-e067-4ae3-e8d1-a67c997db94b"
      },
      "outputs": [
        {
          "name": "stderr",
          "output_type": "stream",
          "text": [
            "WARNING:absl:Found untraced functions such as embedding_3_layer_call_and_return_conditional_losses, embedding_3_layer_call_fn, dropout_17_layer_call_and_return_conditional_losses, dropout_17_layer_call_fn, embedding_3_layer_call_fn while saving (showing 5 of 115). These functions will not be directly callable after loading.\n"
          ]
        },
        {
          "name": "stdout",
          "output_type": "stream",
          "text": [
            "INFO:tensorflow:Assets written to: /content/drive/MyDrive/Data/weak_student_model/assets\n"
          ]
        },
        {
          "name": "stderr",
          "output_type": "stream",
          "text": [
            "INFO:tensorflow:Assets written to: /content/drive/MyDrive/Data/weak_student_model/assets\n"
          ]
        }
      ],
      "source": [
        "tf.keras.models.save_model(model, \"/content/drive/MyDrive/Data/weak_student_model\")\n"
      ]
    },
    {
      "cell_type": "code",
      "execution_count": null,
      "metadata": {
        "colab": {
          "base_uri": "https://localhost:8080/"
        },
        "id": "lx5e0BhwxPcx",
        "outputId": "73e59f5e-9ae7-487a-9546-02c2140fa20c"
      },
      "outputs": [
        {
          "name": "stdout",
          "output_type": "stream",
          "text": [
            "23/23 [==============================] - 3s 145ms/step - loss: 0.2738 - accuracy: 0.9456\n"
          ]
        }
      ],
      "source": [
        "score, acc = model.evaluate(X_test, y_test)"
      ]
    },
    {
      "cell_type": "code",
      "execution_count": null,
      "metadata": {
        "id": "jYwIht5rqZL6"
      },
      "outputs": [],
      "source": [
        "num_layers = 1\n",
        "# d_model = 128\n",
        "dff = 256\n",
        "num_heads = 8\n",
        "dropout_rate = 0.3\n",
        "\n",
        "BATCH_SIZE = 64\n",
        "MAX_LENGTH = max_words\n",
        "\n",
        "input_vocab_size = len(tokenizer.index_word) + 1\n",
        "callback = tf.keras.callbacks.EarlyStopping(monitor='val_loss', mode = 'min' ,patience=7)\n",
        "\n",
        "def fitmodel1(dim_model):\n",
        "  for d_model in dim_model:\n",
        "    print(\"progress : \", d_model/64)\n",
        "    input = tf.keras.layers.Input(shape=(MAX_LENGTH,))\n",
        "    encoder = Encoder(input_vocab_size, num_layers = num_layers, d_model = d_model, num_heads = num_heads,\n",
        "                      dff = dff, dropout = dropout_rate)\n",
        "    x = encoder(input)\n",
        "    x = Bidirectional(GRU(128, dropout=0.2))(x)\n",
        "    output = Dense(5, activation='sigmoid')(x) \n",
        "    model = Model(input, output)\n",
        "    model.compile(loss='categorical_crossentropy', optimizer='adam', metrics=['accuracy'])\n",
        "    history = model.fit(x_train , y_train,\n",
        "                        batch_size=32,\n",
        "                        epochs=8,\n",
        "                        verbose=0,\n",
        "                        callbacks=[callback],\n",
        "                        validation_split=0.2)\n",
        "    plt.title('Loss Vs Epochs ' )\n",
        "    plt.plot(history.history['val_loss'],label=\"d_model : \"+str(d_model))\n",
        "    plt.legend()"
      ]
    },
    {
      "cell_type": "code",
      "execution_count": null,
      "metadata": {
        "colab": {
          "base_uri": "https://localhost:8080/",
          "height": 353
        },
        "id": "bUjRuxmjr9_L",
        "outputId": "a6753cab-26f6-4b90-f6ca-d1132750e915"
      },
      "outputs": [
        {
          "name": "stdout",
          "output_type": "stream",
          "text": [
            "progress :  1.0\n",
            "progress :  2.0\n",
            "progress :  4.0\n",
            "progress :  8.0\n"
          ]
        },
        {
          "data": {
            "image/png": "[encoded data removed]",
            "text/plain": [
              "<Figure size 432x288 with 1 Axes>"
            ]
          },
          "metadata": {
            "needs_background": "light"
          },
          "output_type": "display_data"
        }
      ],
      "source": [
        "dim_model = [64 , 128 , 256 , 512]\n",
        "fitmodel1(dim_model)"
      ]
    },
    {
      "cell_type": "code",
      "execution_count": null,
      "metadata": {
        "id": "vP7-8NGTxk_S"
      },
      "outputs": [],
      "source": [
        "num_layers = 1\n",
        "d_model = 64\n",
        "dff = 256\n",
        "# num_heads = 8\n",
        "dropout_rate = 0.3\n",
        "\n",
        "MAX_LENGTH = max_words\n",
        "\n",
        "input_vocab_size = len(tokenizer.index_word) + 1\n",
        "callback = tf.keras.callbacks.EarlyStopping(monitor='val_loss', mode = 'min' ,patience=7)\n",
        "\n",
        "def fitmodel2(num_heads_arr):\n",
        "  for num_heads in num_heads_arr:\n",
        "    print(\"progress : \", num_heads/8)\n",
        "    input = tf.keras.layers.Input(shape=(MAX_LENGTH,))\n",
        "    encoder = Encoder(input_vocab_size, num_layers = num_layers, d_model = d_model, num_heads = num_heads,\n",
        "                      dff = dff, dropout = dropout_rate)\n",
        "    x = encoder(input)\n",
        "    x = Bidirectional(GRU(128, dropout=0.2))(x)\n",
        "    output = Dense(5, activation='sigmoid')(x) \n",
        "    model = Model(input, output)\n",
        "    model.compile(loss='categorical_crossentropy', optimizer='adam', metrics=['accuracy'])\n",
        "    history = model.fit(x_train , y_train,\n",
        "                        batch_size=32,\n",
        "                        epochs=10,\n",
        "                        verbose=0,\n",
        "                        callbacks=[callback],\n",
        "                        validation_split=0.2)\n",
        "    plt.title('Loss Vs Epochs ' )\n",
        "    plt.plot(history.history['val_loss'],label=\"num_heads : \"+str(num_heads))\n",
        "    plt.legend()"
      ]
    },
    {
      "cell_type": "code",
      "execution_count": null,
      "metadata": {
        "colab": {
          "base_uri": "https://localhost:8080/",
          "height": 769
        },
        "id": "DhyI3CN7x6dm",
        "outputId": "e5a59488-4c60-4de2-8b93-62f0bc9a1d3e"
      },
      "outputs": [
        {
          "name": "stdout",
          "output_type": "stream",
          "text": [
            "progress :  1.0\n",
            "progress :  2.0\n",
            "progress :  4.0\n"
          ]
        },
        {
          "ename": "ResourceExhaustedError",
          "evalue": "ignored",
          "output_type": "error",
          "traceback": [
            "\u001b[0;31m---------------------------------------------------------------------------\u001b[0m",
            "\u001b[0;31mResourceExhaustedError\u001b[0m                    Traceback (most recent call last)",
            "\u001b[0;32m<ipython-input-53-98fbab2ab1e9>\u001b[0m in \u001b[0;36m<module>\u001b[0;34m()\u001b[0m\n\u001b[1;32m      1\u001b[0m \u001b[0mnum_heads_arr\u001b[0m \u001b[0;34m=\u001b[0m \u001b[0;34m[\u001b[0m\u001b[0;36m8\u001b[0m \u001b[0;34m,\u001b[0m \u001b[0;36m16\u001b[0m \u001b[0;34m,\u001b[0m \u001b[0;36m32\u001b[0m\u001b[0;34m]\u001b[0m\u001b[0;34m\u001b[0m\u001b[0;34m\u001b[0m\u001b[0m\n\u001b[0;32m----> 2\u001b[0;31m \u001b[0mfitmodel2\u001b[0m\u001b[0;34m(\u001b[0m\u001b[0mnum_heads_arr\u001b[0m\u001b[0;34m)\u001b[0m\u001b[0;34m\u001b[0m\u001b[0;34m\u001b[0m\u001b[0m\n\u001b[0m",
            "\u001b[0;32m<ipython-input-51-3b67f14e1a6d>\u001b[0m in \u001b[0;36mfitmodel2\u001b[0;34m(num_heads_arr)\u001b[0m\n\u001b[1;32m     26\u001b[0m                         \u001b[0mverbose\u001b[0m\u001b[0;34m=\u001b[0m\u001b[0;36m0\u001b[0m\u001b[0;34m,\u001b[0m\u001b[0;34m\u001b[0m\u001b[0;34m\u001b[0m\u001b[0m\n\u001b[1;32m     27\u001b[0m                         \u001b[0mcallbacks\u001b[0m\u001b[0;34m=\u001b[0m\u001b[0;34m[\u001b[0m\u001b[0mcallback\u001b[0m\u001b[0;34m]\u001b[0m\u001b[0;34m,\u001b[0m\u001b[0;34m\u001b[0m\u001b[0;34m\u001b[0m\u001b[0m\n\u001b[0;32m---> 28\u001b[0;31m                         validation_split=0.2)\n\u001b[0m\u001b[1;32m     29\u001b[0m     \u001b[0mplt\u001b[0m\u001b[0;34m.\u001b[0m\u001b[0mtitle\u001b[0m\u001b[0;34m(\u001b[0m\u001b[0;34m'Loss Vs Epochs '\u001b[0m \u001b[0;34m)\u001b[0m\u001b[0;34m\u001b[0m\u001b[0;34m\u001b[0m\u001b[0m\n\u001b[1;32m     30\u001b[0m     \u001b[0mplt\u001b[0m\u001b[0;34m.\u001b[0m\u001b[0mplot\u001b[0m\u001b[0;34m(\u001b[0m\u001b[0mhistory\u001b[0m\u001b[0;34m.\u001b[0m\u001b[0mhistory\u001b[0m\u001b[0;34m[\u001b[0m\u001b[0;34m'val_loss'\u001b[0m\u001b[0;34m]\u001b[0m\u001b[0;34m,\u001b[0m\u001b[0mlabel\u001b[0m\u001b[0;34m=\u001b[0m\u001b[0;34m\"d_model : \"\u001b[0m\u001b[0;34m+\u001b[0m\u001b[0mstr\u001b[0m\u001b[0;34m(\u001b[0m\u001b[0md_model\u001b[0m\u001b[0;34m)\u001b[0m\u001b[0;34m)\u001b[0m\u001b[0;34m\u001b[0m\u001b[0;34m\u001b[0m\u001b[0m\n",
            "\u001b[0;32m/usr/local/lib/python3.7/dist-packages/keras/engine/training.py\u001b[0m in \u001b[0;36mfit\u001b[0;34m(self, x, y, batch_size, epochs, verbose, callbacks, validation_split, validation_data, shuffle, class_weight, sample_weight, initial_epoch, steps_per_epoch, validation_steps, validation_batch_size, validation_freq, max_queue_size, workers, use_multiprocessing)\u001b[0m\n\u001b[1;32m   1182\u001b[0m                 _r=1):\n\u001b[1;32m   1183\u001b[0m               \u001b[0mcallbacks\u001b[0m\u001b[0;34m.\u001b[0m\u001b[0mon_train_batch_begin\u001b[0m\u001b[0;34m(\u001b[0m\u001b[0mstep\u001b[0m\u001b[0;34m)\u001b[0m\u001b[0;34m\u001b[0m\u001b[0;34m\u001b[0m\u001b[0m\n\u001b[0;32m-> 1184\u001b[0;31m               \u001b[0mtmp_logs\u001b[0m \u001b[0;34m=\u001b[0m \u001b[0mself\u001b[0m\u001b[0;34m.\u001b[0m\u001b[0mtrain_function\u001b[0m\u001b[0;34m(\u001b[0m\u001b[0miterator\u001b[0m\u001b[0;34m)\u001b[0m\u001b[0;34m\u001b[0m\u001b[0;34m\u001b[0m\u001b[0m\n\u001b[0m\u001b[1;32m   1185\u001b[0m               \u001b[0;32mif\u001b[0m \u001b[0mdata_handler\u001b[0m\u001b[0;34m.\u001b[0m\u001b[0mshould_sync\u001b[0m\u001b[0;34m:\u001b[0m\u001b[0;34m\u001b[0m\u001b[0;34m\u001b[0m\u001b[0m\n\u001b[1;32m   1186\u001b[0m                 \u001b[0mcontext\u001b[0m\u001b[0;34m.\u001b[0m\u001b[0masync_wait\u001b[0m\u001b[0;34m(\u001b[0m\u001b[0;34m)\u001b[0m\u001b[0;34m\u001b[0m\u001b[0;34m\u001b[0m\u001b[0m\n",
            "\u001b[0;32m/usr/local/lib/python3.7/dist-packages/tensorflow/python/eager/def_function.py\u001b[0m in \u001b[0;36m__call__\u001b[0;34m(self, *args, **kwds)\u001b[0m\n\u001b[1;32m    883\u001b[0m \u001b[0;34m\u001b[0m\u001b[0m\n\u001b[1;32m    884\u001b[0m       \u001b[0;32mwith\u001b[0m \u001b[0mOptionalXlaContext\u001b[0m\u001b[0;34m(\u001b[0m\u001b[0mself\u001b[0m\u001b[0;34m.\u001b[0m\u001b[0m_jit_compile\u001b[0m\u001b[0;34m)\u001b[0m\u001b[0;34m:\u001b[0m\u001b[0;34m\u001b[0m\u001b[0;34m\u001b[0m\u001b[0m\n\u001b[0;32m--> 885\u001b[0;31m         \u001b[0mresult\u001b[0m \u001b[0;34m=\u001b[0m \u001b[0mself\u001b[0m\u001b[0;34m.\u001b[0m\u001b[0m_call\u001b[0m\u001b[0;34m(\u001b[0m\u001b[0;34m*\u001b[0m\u001b[0margs\u001b[0m\u001b[0;34m,\u001b[0m \u001b[0;34m**\u001b[0m\u001b[0mkwds\u001b[0m\u001b[0;34m)\u001b[0m\u001b[0;34m\u001b[0m\u001b[0;34m\u001b[0m\u001b[0m\n\u001b[0m\u001b[1;32m    886\u001b[0m \u001b[0;34m\u001b[0m\u001b[0m\n\u001b[1;32m    887\u001b[0m       \u001b[0mnew_tracing_count\u001b[0m \u001b[0;34m=\u001b[0m \u001b[0mself\u001b[0m\u001b[0;34m.\u001b[0m\u001b[0mexperimental_get_tracing_count\u001b[0m\u001b[0;34m(\u001b[0m\u001b[0;34m)\u001b[0m\u001b[0;34m\u001b[0m\u001b[0;34m\u001b[0m\u001b[0m\n",
            "\u001b[0;32m/usr/local/lib/python3.7/dist-packages/tensorflow/python/eager/def_function.py\u001b[0m in \u001b[0;36m_call\u001b[0;34m(self, *args, **kwds)\u001b[0m\n\u001b[1;32m    948\u001b[0m         \u001b[0;31m# Lifting succeeded, so variables are initialized and we can run the\u001b[0m\u001b[0;34m\u001b[0m\u001b[0;34m\u001b[0m\u001b[0;34m\u001b[0m\u001b[0m\n\u001b[1;32m    949\u001b[0m         \u001b[0;31m# stateless function.\u001b[0m\u001b[0;34m\u001b[0m\u001b[0;34m\u001b[0m\u001b[0;34m\u001b[0m\u001b[0m\n\u001b[0;32m--> 950\u001b[0;31m         \u001b[0;32mreturn\u001b[0m \u001b[0mself\u001b[0m\u001b[0;34m.\u001b[0m\u001b[0m_stateless_fn\u001b[0m\u001b[0;34m(\u001b[0m\u001b[0;34m*\u001b[0m\u001b[0margs\u001b[0m\u001b[0;34m,\u001b[0m \u001b[0;34m**\u001b[0m\u001b[0mkwds\u001b[0m\u001b[0;34m)\u001b[0m\u001b[0;34m\u001b[0m\u001b[0;34m\u001b[0m\u001b[0m\n\u001b[0m\u001b[1;32m    951\u001b[0m     \u001b[0;32melse\u001b[0m\u001b[0;34m:\u001b[0m\u001b[0;34m\u001b[0m\u001b[0;34m\u001b[0m\u001b[0m\n\u001b[1;32m    952\u001b[0m       \u001b[0m_\u001b[0m\u001b[0;34m,\u001b[0m \u001b[0m_\u001b[0m\u001b[0;34m,\u001b[0m \u001b[0m_\u001b[0m\u001b[0;34m,\u001b[0m \u001b[0mfiltered_flat_args\u001b[0m \u001b[0;34m=\u001b[0m\u001b[0;31m \u001b[0m\u001b[0;31m\\\u001b[0m\u001b[0;34m\u001b[0m\u001b[0;34m\u001b[0m\u001b[0m\n",
            "\u001b[0;32m/usr/local/lib/python3.7/dist-packages/tensorflow/python/eager/function.py\u001b[0m in \u001b[0;36m__call__\u001b[0;34m(self, *args, **kwargs)\u001b[0m\n\u001b[1;32m   3038\u001b[0m        filtered_flat_args) = self._maybe_define_function(args, kwargs)\n\u001b[1;32m   3039\u001b[0m     return graph_function._call_flat(\n\u001b[0;32m-> 3040\u001b[0;31m         filtered_flat_args, captured_inputs=graph_function.captured_inputs)  # pylint: disable=protected-access\n\u001b[0m\u001b[1;32m   3041\u001b[0m \u001b[0;34m\u001b[0m\u001b[0m\n\u001b[1;32m   3042\u001b[0m   \u001b[0;34m@\u001b[0m\u001b[0mproperty\u001b[0m\u001b[0;34m\u001b[0m\u001b[0;34m\u001b[0m\u001b[0m\n",
            "\u001b[0;32m/usr/local/lib/python3.7/dist-packages/tensorflow/python/eager/function.py\u001b[0m in \u001b[0;36m_call_flat\u001b[0;34m(self, args, captured_inputs, cancellation_manager)\u001b[0m\n\u001b[1;32m   1962\u001b[0m       \u001b[0;31m# No tape is watching; skip to running the function.\u001b[0m\u001b[0;34m\u001b[0m\u001b[0;34m\u001b[0m\u001b[0;34m\u001b[0m\u001b[0m\n\u001b[1;32m   1963\u001b[0m       return self._build_call_outputs(self._inference_function.call(\n\u001b[0;32m-> 1964\u001b[0;31m           ctx, args, cancellation_manager=cancellation_manager))\n\u001b[0m\u001b[1;32m   1965\u001b[0m     forward_backward = self._select_forward_and_backward_functions(\n\u001b[1;32m   1966\u001b[0m         \u001b[0margs\u001b[0m\u001b[0;34m,\u001b[0m\u001b[0;34m\u001b[0m\u001b[0;34m\u001b[0m\u001b[0m\n",
            "\u001b[0;32m/usr/local/lib/python3.7/dist-packages/tensorflow/python/eager/function.py\u001b[0m in \u001b[0;36mcall\u001b[0;34m(self, ctx, args, cancellation_manager)\u001b[0m\n\u001b[1;32m    594\u001b[0m               \u001b[0minputs\u001b[0m\u001b[0;34m=\u001b[0m\u001b[0margs\u001b[0m\u001b[0;34m,\u001b[0m\u001b[0;34m\u001b[0m\u001b[0;34m\u001b[0m\u001b[0m\n\u001b[1;32m    595\u001b[0m               \u001b[0mattrs\u001b[0m\u001b[0;34m=\u001b[0m\u001b[0mattrs\u001b[0m\u001b[0;34m,\u001b[0m\u001b[0;34m\u001b[0m\u001b[0;34m\u001b[0m\u001b[0m\n\u001b[0;32m--> 596\u001b[0;31m               ctx=ctx)\n\u001b[0m\u001b[1;32m    597\u001b[0m         \u001b[0;32melse\u001b[0m\u001b[0;34m:\u001b[0m\u001b[0;34m\u001b[0m\u001b[0;34m\u001b[0m\u001b[0m\n\u001b[1;32m    598\u001b[0m           outputs = execute.execute_with_cancellation(\n",
            "\u001b[0;32m/usr/local/lib/python3.7/dist-packages/tensorflow/python/eager/execute.py\u001b[0m in \u001b[0;36mquick_execute\u001b[0;34m(op_name, num_outputs, inputs, attrs, ctx, name)\u001b[0m\n\u001b[1;32m     58\u001b[0m     \u001b[0mctx\u001b[0m\u001b[0;34m.\u001b[0m\u001b[0mensure_initialized\u001b[0m\u001b[0;34m(\u001b[0m\u001b[0;34m)\u001b[0m\u001b[0;34m\u001b[0m\u001b[0;34m\u001b[0m\u001b[0m\n\u001b[1;32m     59\u001b[0m     tensors = pywrap_tfe.TFE_Py_Execute(ctx._handle, device_name, op_name,\n\u001b[0;32m---> 60\u001b[0;31m                                         inputs, attrs, num_outputs)\n\u001b[0m\u001b[1;32m     61\u001b[0m   \u001b[0;32mexcept\u001b[0m \u001b[0mcore\u001b[0m\u001b[0;34m.\u001b[0m\u001b[0m_NotOkStatusException\u001b[0m \u001b[0;32mas\u001b[0m \u001b[0me\u001b[0m\u001b[0;34m:\u001b[0m\u001b[0;34m\u001b[0m\u001b[0;34m\u001b[0m\u001b[0m\n\u001b[1;32m     62\u001b[0m     \u001b[0;32mif\u001b[0m \u001b[0mname\u001b[0m \u001b[0;32mis\u001b[0m \u001b[0;32mnot\u001b[0m \u001b[0;32mNone\u001b[0m\u001b[0;34m:\u001b[0m\u001b[0;34m\u001b[0m\u001b[0;34m\u001b[0m\u001b[0m\n",
            "\u001b[0;31mResourceExhaustedError\u001b[0m:  OOM when allocating tensor with shape[32,32,1000,1000] and type float on /job:localhost/replica:0/task:0/device:GPU:0 by allocator GPU_0_bfc\n\t [[node model_16/encoder_18/encoder_layer_23/multi_head_attention_23/attention_21/Softmax (defined at <ipython-input-14-6f785fc80c79>:51) ]]\nHint: If you want to see a list of allocated tensors when OOM happens, add report_tensor_allocations_upon_oom to RunOptions for current allocation info. This isn't available when running in Eager mode.\n [Op:__inference_train_function_312381]\n\nFunction call stack:\ntrain_function\n"
          ]
        },
        {
          "data": {
            "image/png": "[encoded data removed]",
            "text/plain": [
              "<Figure size 432x288 with 1 Axes>"
            ]
          },
          "metadata": {
            "needs_background": "light"
          },
          "output_type": "display_data"
        }
      ],
      "source": [
        "num_heads_arr = [8 , 16 ]\n",
        "fitmodel2(num_heads_arr)"
      ]
    },
    {
      "cell_type": "code",
      "execution_count": null,
      "metadata": {
        "id": "KVpmqtlb0z9o"
      },
      "outputs": [],
      "source": [
        "# num_layers = 1\n",
        "d_model = 64\n",
        "dff = 256\n",
        "num_heads = 8\n",
        "dropout_rate = 0.3\n",
        "\n",
        "MAX_LENGTH = max_words\n",
        "\n",
        "input_vocab_size = len(tokenizer.index_word) + 1\n",
        "callback = tf.keras.callbacks.EarlyStopping(monitor='val_loss', mode = 'min' ,patience=7)\n",
        "\n",
        "def fitmodel2(num_layers_arr):\n",
        "  for num_layers in num_layers_arr:\n",
        "    print(\"progress : \", num_layers)\n",
        "    input = tf.keras.layers.Input(shape=(MAX_LENGTH,))\n",
        "    encoder = Encoder(input_vocab_size, num_layers = num_layers, d_model = d_model, num_heads = num_heads,\n",
        "                      dff = dff, dropout = dropout_rate)\n",
        "    x = encoder(input)\n",
        "    x = Bidirectional(GRU(128, dropout=0.2))(x)\n",
        "    output = Dense(5, activation='sigmoid')(x) \n",
        "    model = Model(input, output)\n",
        "    model.compile(loss='categorical_crossentropy', optimizer='adam', metrics=['accuracy'])\n",
        "    history = model.fit(x_train , y_train,\n",
        "                        batch_size=32,\n",
        "                        epochs=12,\n",
        "                        verbose=0,\n",
        "                        callbacks=[callback],\n",
        "                        validation_split=0.2)\n",
        "    plt.title('Loss Vs Epochs ' )\n",
        "    plt.plot(history.history['val_loss'],label=\"num_layers : \"+str(num_layers))\n",
        "    plt.legend()"
      ]
    },
    {
      "cell_type": "code",
      "execution_count": null,
      "metadata": {
        "colab": {
          "base_uri": "https://localhost:8080/",
          "height": 333
        },
        "id": "zL12kfxd12Xk",
        "outputId": "6f9bf1f1-b497-4374-8836-4a0f14d561cc"
      },
      "outputs": [
        {
          "name": "stdout",
          "output_type": "stream",
          "text": [
            "progress :  1\n",
            "progress :  2\n",
            "progress :  3\n"
          ]
        },
        {
          "data": {
            "image/png": "[encoded data removed]",
            "text/plain": [
              "<Figure size 432x288 with 1 Axes>"
            ]
          },
          "metadata": {
            "needs_background": "light"
          },
          "output_type": "display_data"
        }
      ],
      "source": [
        "num_layers_arr = [1 , 2 , 3]\n",
        "fitmodel2(num_layers_arr)"
      ]
    },
    {
      "cell_type": "code",
      "execution_count": null,
      "metadata": {
        "colab": {
          "base_uri": "https://localhost:8080/"
        },
        "id": "e1No68mxgz2L",
        "outputId": "1189fdba-7ddc-4f3c-c584-26b78921d450"
      },
      "outputs": [
        {
          "name": "stdout",
          "output_type": "stream",
          "text": [
            "Model: \"model\"\n",
            "_________________________________________________________________\n",
            "Layer (type)                 Output Shape              Param #   \n",
            "=================================================================\n",
            "input_1 (InputLayer)         [(None, 1000)]            0         \n",
            "_________________________________________________________________\n",
            "encoder (Encoder)            (None, 1000, 64)          1648000   \n",
            "_________________________________________________________________\n",
            "bidirectional (Bidirectional (None, 1000, 1024)        2363392   \n",
            "_________________________________________________________________\n",
            "bidirectional_1 (Bidirection (None, 256)               1180672   \n",
            "_________________________________________________________________\n",
            "dense_6 (Dense)              (None, 5)                 1285      \n",
            "=================================================================\n",
            "Total params: 5,193,349\n",
            "Trainable params: 5,193,349\n",
            "Non-trainable params: 0\n",
            "_________________________________________________________________\n"
          ]
        }
      ],
      "source": [
        "num_layers = 1\n",
        "d_model = 64\n",
        "dff = 256\n",
        "num_heads = 8\n",
        "dropout_rate = 0.3\n",
        "\n",
        "MAX_LENGTH = max_words\n",
        "\n",
        "input_vocab_size = len(tokenizer.index_word) + 1\n",
        "input = tf.keras.layers.Input(shape=(MAX_LENGTH,))\n",
        "encoder = Encoder(input_vocab_size, num_layers = num_layers, d_model = d_model, num_heads = num_heads,\n",
        "                  dff = dff, dropout = dropout_rate)\n",
        "\n",
        "x = encoder(input)\n",
        "x = Bidirectional(LSTM(512, dropout=0.2, return_sequences = True))(x)\n",
        "x = Bidirectional(LSTM(128, dropout=0.2))(x)\n",
        "output = Dense(5, activation='sigmoid')(x)\n",
        "  \n",
        "model = Model(input, output)\n",
        "model.compile(loss='categorical_crossentropy', optimizer='adam', metrics=['accuracy'])\n",
        "\n",
        "model.summary()"
      ]
    },
    {
      "cell_type": "code",
      "execution_count": null,
      "metadata": {
        "colab": {
          "base_uri": "https://localhost:8080/"
        },
        "id": "lOhJ3TP5zj3I",
        "outputId": "875c8ac2-674f-40c2-dcb3-0a0bb9eeaf55"
      },
      "outputs": [
        {
          "name": "stdout",
          "output_type": "stream",
          "text": [
            "Epoch 1/2\n"
          ]
        }
      ],
      "source": [
        "callback = tf.keras.callbacks.EarlyStopping(monitor='val_loss', mode = 'min' ,patience=4)\n",
        "history = model.fit(x_train , y_train,\n",
        "                    batch_size=16,\n",
        "                    epochs=2,\n",
        "                    verbose=2,\n",
        "                    callbacks=[callback],\n",
        "                    validation_split=0.2)"
      ]
    },
    {
      "cell_type": "code",
      "execution_count": null,
      "metadata": {
        "colab": {
          "base_uri": "https://localhost:8080/"
        },
        "id": "XcOfvE3JIWq1",
        "outputId": "167dfe49-c573-432c-87c9-7d1681ad5acf"
      },
      "outputs": [
        {
          "name": "stdout",
          "output_type": "stream",
          "text": [
            "23/23 [==============================] - 11s 480ms/step - loss: 0.2046 - accuracy: 0.9578\n"
          ]
        }
      ],
      "source": [
        "score, acc = model.evaluate(X_test, y_test)"
      ]
    },
    {
      "cell_type": "code",
      "execution_count": null,
      "metadata": {
        "colab": {
          "base_uri": "https://localhost:8080/"
        },
        "id": "GVmrvw-c6MYo",
        "outputId": "df8be28c-d56b-49fa-e74d-62fc28e6e26b"
      },
      "outputs": [
        {
          "name": "stdout",
          "output_type": "stream",
          "text": [
            "input vocab size :  24969\n",
            "Model: \"model_12\"\n",
            "_________________________________________________________________\n",
            "Layer (type)                 Output Shape              Param #   \n",
            "=================================================================\n",
            "input_17 (InputLayer)        [(None, 1000)]            0         \n",
            "_________________________________________________________________\n",
            "encoder_2 (Encoder)          (None, 1000, 64)          1648000   \n",
            "_________________________________________________________________\n",
            "bidirectional_2 (Bidirection (None, 256)               197632    \n",
            "_________________________________________________________________\n",
            "dense_60 (Dense)             (None, 5)                 1285      \n",
            "=================================================================\n",
            "Total params: 1,846,917\n",
            "Trainable params: 1,846,917\n",
            "Non-trainable params: 0\n",
            "_________________________________________________________________\n"
          ]
        }
      ],
      "source": [
        "num_layers = 1\n",
        "d_model = 64\n",
        "dff = 256\n",
        "num_heads = 8\n",
        "dropout_rate = 0.5\n",
        "\n",
        "MAX_LENGTH = max_words\n",
        "\n",
        "input_vocab_size = len(tokenizer.index_word) + 1\n",
        "print(\"input vocab size : \" , input_vocab_size)\n",
        "input = tf.keras.layers.Input(shape=(MAX_LENGTH,))\n",
        "encoder = Encoder(input_vocab_size, num_layers = num_layers, d_model = d_model, num_heads = num_heads,\n",
        "                  dff = dff, dropout = dropout_rate)\n",
        "\n",
        "x = encoder(input)\n",
        "x = Bidirectional(LSTM(128, dropout=0.2))(x)\n",
        "output = Dense(5, activation='sigmoid')(x)\n",
        "  \n",
        "model = Model(input, output)\n",
        "model.compile(loss='categorical_crossentropy', optimizer='adam', metrics=['accuracy'])\n",
        "\n",
        "model.summary()"
      ]
    },
    {
      "cell_type": "code",
      "execution_count": null,
      "metadata": {
        "colab": {
          "base_uri": "https://localhost:8080/"
        },
        "id": "hDoByF_zvhVd",
        "outputId": "4257468d-c767-46c0-c04e-632db1505652"
      },
      "outputs": [
        {
          "name": "stdout",
          "output_type": "stream",
          "text": [
            "Epoch 1/10\n",
            "75/75 - 221s - loss: 1.5429 - accuracy: 0.2945 - val_loss: 1.5360 - val_accuracy: 0.3859\n",
            "Epoch 2/10\n",
            "75/75 - 211s - loss: 1.2314 - accuracy: 0.4841 - val_loss: 0.9109 - val_accuracy: 0.6309\n",
            "Epoch 3/10\n",
            "75/75 - 209s - loss: 0.6985 - accuracy: 0.7156 - val_loss: 0.4846 - val_accuracy: 0.8423\n",
            "Epoch 4/10\n",
            "75/75 - 209s - loss: 0.3600 - accuracy: 0.8691 - val_loss: 0.2910 - val_accuracy: 0.9128\n",
            "Epoch 5/10\n",
            "75/75 - 208s - loss: 0.1278 - accuracy: 0.9597 - val_loss: 0.2434 - val_accuracy: 0.9329\n",
            "Epoch 6/10\n",
            "75/75 - 209s - loss: 0.0881 - accuracy: 0.9732 - val_loss: 0.2232 - val_accuracy: 0.9161\n",
            "Epoch 7/10\n",
            "75/75 - 213s - loss: 0.0775 - accuracy: 0.9757 - val_loss: 0.2980 - val_accuracy: 0.9128\n",
            "Epoch 8/10\n",
            "75/75 - 212s - loss: 0.0254 - accuracy: 0.9916 - val_loss: 0.2217 - val_accuracy: 0.9396\n",
            "Epoch 9/10\n",
            "75/75 - 211s - loss: 0.0605 - accuracy: 0.9782 - val_loss: 0.2000 - val_accuracy: 0.9228\n",
            "Epoch 10/10\n",
            "75/75 - 215s - loss: 0.0587 - accuracy: 0.9815 - val_loss: 0.2120 - val_accuracy: 0.9664\n"
          ]
        }
      ],
      "source": [
        "callback = tf.keras.callbacks.EarlyStopping(monitor='val_loss', mode = 'min' ,patience=4)\n",
        "history = model.fit(x_train , y_train,\n",
        "                    batch_size=16,\n",
        "                    epochs=10,\n",
        "                    verbose=2,\n",
        "                    callbacks=[callback],\n",
        "                    validation_split=0.2)"
      ]
    },
    {
      "cell_type": "code",
      "execution_count": null,
      "metadata": {
        "colab": {
          "base_uri": "https://localhost:8080/"
        },
        "id": "PAmvfrU25ier",
        "outputId": "a4130a5f-c038-46b7-f490-975e6a049af5"
      },
      "outputs": [
        {
          "name": "stdout",
          "output_type": "stream",
          "text": [
            "23/23 [==============================] - 28s 1s/step - loss: 0.2469 - accuracy: 0.9497\n"
          ]
        }
      ],
      "source": [
        "score, acc = model.evaluate(X_test, y_test)"
      ]
    }
  ],
  "metadata": {
    "colab": {
      "collapsed_sections": [],
      "name": "DLNLP_A5.ipynb",
      "provenance": []
    },
    "kernelspec": {
      "display_name": "Python 3",
      "name": "python3"
    }
  },
  "nbformat": 4,
  "nbformat_minor": 0
}
